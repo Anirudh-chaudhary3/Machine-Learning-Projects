{
 "cells": [
  {
   "cell_type": "markdown",
   "metadata": {},
   "source": [
    "## <center>MNIST DATASET</center>"
   ]
  },
  {
   "cell_type": "markdown",
   "metadata": {},
   "source": [
    "# About the Dataset"
   ]
  },
  {
   "cell_type": "markdown",
   "metadata": {},
   "source": [
    "~ 70,000 Handwritten Digits\n",
    "<br>\n",
    "    Very Visual Problem<br>\n",
    "    Extremely Common<br>\n",
    "    Easy to build <br>\n",
    "    Very Big and Preprocessed"
   ]
  },
  {
   "cell_type": "markdown",
   "metadata": {},
   "source": [
    "# How to Tackle the MNIST"
   ]
  },
  {
   "cell_type": "markdown",
   "metadata": {},
   "source": [
    "<ul>\n",
    "    <li>We can think about the problem as 28 x 28 matrix, where input values are from 0 to 255.</li>\n",
    "    <li>Approach : is to flatten each image into a vector of (784 x 1).</li>\n",
    "    <li>Each photo consist of 784 pixels.</li>\n",
    "    <li>Each pixel is an input for our neural network.</li>\n",
    "    <li>Each pixel corresponds to intensity of the colour (255 - white , 0 - black).</li>\n",
    "    <li>There are 10 classes. (0 - 9).</li>\n",
    "</ul> "
   ]
  },
  {
   "cell_type": "markdown",
   "metadata": {},
   "source": [
    "# Action Plan"
   ]
  },
  {
   "cell_type": "markdown",
   "metadata": {},
   "source": [
    "<ol>\n",
    "    <li>Prepare Data and Preprocess</li>\n",
    "    <li>Create Training , Validation and Testing Datasets</li>\n",
    "    <li>Outline thhe Model and Choose Activation Functions</li>\n",
    "    <li>Set Appropriate Advanced Optimizer and Loss Functions</li>\n",
    "    <li>Model Learning</li>\n",
    "    <li>Test Model Accuracy</li>\n",
    "</ol>"
   ]
  },
  {
   "cell_type": "markdown",
   "metadata": {},
   "source": [
    "---"
   ]
  },
  {
   "cell_type": "markdown",
   "metadata": {},
   "source": [
    "Import relevant Libraries"
   ]
  },
  {
   "cell_type": "code",
   "execution_count": 1,
   "metadata": {},
   "outputs": [],
   "source": [
    "import numpy as np # Mathematical Imputations\n",
    "import tensorflow as tf # For Deep Learning Model\n",
    "import tensorflow_datasets as tfdf # Help in Downloading Dataset"
   ]
  },
  {
   "cell_type": "markdown",
   "metadata": {},
   "source": [
    "Downloading Dataset"
   ]
  },
  {
   "cell_type": "code",
   "execution_count": 2,
   "metadata": {},
   "outputs": [],
   "source": [
    "mnist_dataset , mnist_info = tfdf.load(name = \"mnist\" , with_info = True , as_supervised = True)"
   ]
  },
  {
   "cell_type": "markdown",
   "metadata": {},
   "source": [
    "tfdf.load : loads a dataset from tensorflow datasets<br>\n",
    "with_info : contains info about dataset version and feature<br>\n",
    "as_supervised : loads data in 2-Tuple structure [input , target]"
   ]
  },
  {
   "cell_type": "markdown",
   "metadata": {},
   "source": [
    "<center>Preprocess the Data</center>"
   ]
  },
  {
   "cell_type": "code",
   "execution_count": 3,
   "metadata": {},
   "outputs": [],
   "source": [
    "mnist_train , mnist_test = mnist_dataset['train'] , mnist_dataset['test']"
   ]
  },
  {
   "cell_type": "markdown",
   "metadata": {},
   "source": [
    "create validation dataset and scale it"
   ]
  },
  {
   "cell_type": "code",
   "execution_count": 4,
   "metadata": {},
   "outputs": [],
   "source": [
    "num_validation_samples = 0.1 * mnist_info.splits['train'].num_examples\n",
    "num_validation_samples = tf.cast(num_validation_samples , tf.int64)"
   ]
  },
  {
   "cell_type": "markdown",
   "metadata": {},
   "source": [
    "validation dataset is 10% of train dataset<br>\n",
    "tf.cast(X , dtype) : Converts a variable into a given data type"
   ]
  },
  {
   "cell_type": "code",
   "execution_count": 5,
   "metadata": {},
   "outputs": [],
   "source": [
    "num_test_samples = mnist_info.splits['test'].num_examples\n",
    "num_test_samples = tf.cast(num_test_samples , tf.int64)"
   ]
  },
  {
   "cell_type": "markdown",
   "metadata": {},
   "source": [
    "<center>Scale the Data</center>"
   ]
  },
  {
   "cell_type": "code",
   "execution_count": 6,
   "metadata": {},
   "outputs": [],
   "source": [
    "def scale(image , label) :\n",
    "    image = tf.cast(image , tf.float32)\n",
    "    image /= 255.0\n",
    "    return image , label"
   ]
  },
  {
   "cell_type": "code",
   "execution_count": 7,
   "metadata": {},
   "outputs": [],
   "source": [
    "scaled_train_and_validation_data = mnist_train.map(scale)\n",
    "test_data = mnist_test.map(scale)"
   ]
  },
  {
   "cell_type": "markdown",
   "metadata": {},
   "source": [
    "Shuffling is crucial in deep learning to :<br>\n",
    "Prevent Overfitting <br>\n",
    "Improve Convergence<br>\n",
    "Ensure Unbiased Learning"
   ]
  },
  {
   "cell_type": "code",
   "execution_count": 8,
   "metadata": {},
   "outputs": [],
   "source": [
    "BUFFER_SIZE = 10000\n",
    "shuffled_train_and_validation_data = scaled_train_and_validation_data.shuffle(BUFFER_SIZE)\n",
    "validation_data = shuffled_train_and_validation_data.take(num_validation_samples)\n",
    "train_data = shuffled_train_and_validation_data.skip(num_validation_samples)"
   ]
  },
  {
   "cell_type": "markdown",
   "metadata": {},
   "source": [
    "Batching is required to create mini-batch of dataset"
   ]
  },
  {
   "cell_type": "code",
   "execution_count": 9,
   "metadata": {},
   "outputs": [],
   "source": [
    "BATCH_SIZE = 50\n",
    "train_data = train_data.batch(BATCH_SIZE)\n",
    "validation_data = validation_data.batch(BATCH_SIZE)\n",
    "test_data = test_data.batch(num_test_samples)"
   ]
  },
  {
   "cell_type": "code",
   "execution_count": 10,
   "metadata": {},
   "outputs": [],
   "source": [
    "validation_inputs , validation_targets = next(iter(validation_data))"
   ]
  },
  {
   "cell_type": "markdown",
   "metadata": {},
   "source": [
    "iter() : creates an object which can be iterated one element at a time<br>\n",
    "next() : loads the next element of iterable object"
   ]
  },
  {
   "cell_type": "markdown",
   "metadata": {},
   "source": [
    "<center>Outline the Model</center>"
   ]
  },
  {
   "cell_type": "code",
   "execution_count": 11,
   "metadata": {},
   "outputs": [],
   "source": [
    "INPUT_SIZE = 784\n",
    "OUTPUT_SIZE = 10\n",
    "HIDDEN_LAYER_SIZE = 50"
   ]
  },
  {
   "cell_type": "code",
   "execution_count": 12,
   "metadata": {},
   "outputs": [
    {
     "name": "stderr",
     "output_type": "stream",
     "text": [
      "C:\\Users\\vrani\\AppData\\Local\\Packages\\PythonSoftwareFoundation.Python.3.12_qbz5n2kfra8p0\\LocalCache\\local-packages\\Python312\\site-packages\\keras\\src\\layers\\reshaping\\flatten.py:37: UserWarning: Do not pass an `input_shape`/`input_dim` argument to a layer. When using Sequential models, prefer using an `Input(shape)` object as the first layer in the model instead.\n",
      "  super().__init__(**kwargs)\n"
     ]
    }
   ],
   "source": [
    "model = tf.keras.Sequential([\n",
    "    tf.keras.layers.Flatten(input_shape = (28 ,28 , 1)),\n",
    "    tf.keras.layers.Dense(HIDDEN_LAYER_SIZE , activation = 'relu'),\n",
    "    tf.keras.layers.Dense(HIDDEN_LAYER_SIZE , activation = 'relu'),\n",
    "    tf.keras.layers.Dense(OUTPUT_SIZE , activation = 'softmax')\n",
    "])"
   ]
  },
  {
   "cell_type": "markdown",
   "metadata": {},
   "source": [
    "<center>Loss function and Optimizer</center>"
   ]
  },
  {
   "cell_type": "code",
   "execution_count": 13,
   "metadata": {},
   "outputs": [],
   "source": [
    "model.compile(optimizer = 'adam' , loss = 'sparse_categorical_crossentropy' , metrics = ['accuracy'])"
   ]
  },
  {
   "cell_type": "markdown",
   "metadata": {},
   "source": [
    "adam : Adaptive moment estimation used to accelerate optimization process.<br>\n",
    "sparse_categorical_crossentropy : applies one-hot encoding."
   ]
  },
  {
   "cell_type": "markdown",
   "metadata": {},
   "source": [
    "<center>Learning</center>"
   ]
  },
  {
   "cell_type": "code",
   "execution_count": 14,
   "metadata": {},
   "outputs": [
    {
     "name": "stdout",
     "output_type": "stream",
     "text": [
      "Epoch 1/10\n",
      "1080/1080 - 7s - 6ms/step - accuracy: 0.8996 - loss: 0.3499 - val_accuracy: 0.9000 - val_loss: 0.3169\n",
      "Epoch 2/10\n",
      "1080/1080 - 3s - 3ms/step - accuracy: 0.9528 - loss: 0.1609 - val_accuracy: 0.9400 - val_loss: 0.2153\n",
      "Epoch 3/10\n",
      "1080/1080 - 3s - 3ms/step - accuracy: 0.9639 - loss: 0.1213 - val_accuracy: 0.9400 - val_loss: 0.2477\n",
      "Epoch 4/10\n",
      "1080/1080 - 3s - 3ms/step - accuracy: 0.9708 - loss: 0.0981 - val_accuracy: 0.9800 - val_loss: 0.1555\n",
      "Epoch 5/10\n",
      "1080/1080 - 3s - 3ms/step - accuracy: 0.9752 - loss: 0.0825 - val_accuracy: 0.9600 - val_loss: 0.1996\n",
      "Epoch 6/10\n",
      "1080/1080 - 3s - 3ms/step - accuracy: 0.9790 - loss: 0.0682 - val_accuracy: 0.9400 - val_loss: 0.2010\n",
      "Epoch 7/10\n",
      "1080/1080 - 3s - 3ms/step - accuracy: 0.9814 - loss: 0.0604 - val_accuracy: 0.9600 - val_loss: 0.2028\n",
      "Epoch 8/10\n",
      "1080/1080 - 3s - 3ms/step - accuracy: 0.9836 - loss: 0.0527 - val_accuracy: 0.9000 - val_loss: 0.2647\n",
      "Epoch 9/10\n",
      "1080/1080 - 3s - 3ms/step - accuracy: 0.9852 - loss: 0.0459 - val_accuracy: 0.9600 - val_loss: 0.1646\n",
      "Epoch 10/10\n",
      "1080/1080 - 3s - 3ms/step - accuracy: 0.9869 - loss: 0.0416 - val_accuracy: 0.9600 - val_loss: 0.1884\n"
     ]
    },
    {
     "data": {
      "text/plain": [
       "<keras.src.callbacks.history.History at 0x18ff5d980e0>"
      ]
     },
     "execution_count": 14,
     "metadata": {},
     "output_type": "execute_result"
    }
   ],
   "source": [
    "NUM_EPOCHS = 10\n",
    "model.fit(train_data , epochs = NUM_EPOCHS , validation_data = (validation_inputs , validation_targets) , verbose = 2)"
   ]
  },
  {
   "cell_type": "markdown",
   "metadata": {},
   "source": [
    "verbose 2 : for 'one line per epoch'"
   ]
  },
  {
   "cell_type": "markdown",
   "metadata": {},
   "source": [
    "<center>Test the Model</center>"
   ]
  },
  {
   "cell_type": "code",
   "execution_count": 15,
   "metadata": {},
   "outputs": [
    {
     "name": "stdout",
     "output_type": "stream",
     "text": [
      "\u001b[1m1/1\u001b[0m \u001b[32m━━━━━━━━━━━━━━━━━━━━\u001b[0m\u001b[37m\u001b[0m \u001b[1m0s\u001b[0m 418ms/step - accuracy: 0.9743 - loss: 0.1014\n"
     ]
    }
   ],
   "source": [
    "test_loss , test_accuracy = model.evaluate(test_data)"
   ]
  },
  {
   "cell_type": "code",
   "execution_count": 16,
   "metadata": {},
   "outputs": [
    {
     "name": "stdout",
     "output_type": "stream",
     "text": [
      "Test loss 0.10 , Test Accurracy  97.43%\n"
     ]
    }
   ],
   "source": [
    "print('Test loss {0:.2f} , Test Accurracy {1: .2f}%'.format(test_loss , test_accuracy*100.0))"
   ]
  },
  {
   "cell_type": "markdown",
   "metadata": {},
   "source": [
    "Save the Entire Model"
   ]
  },
  {
   "cell_type": "code",
   "execution_count": 17,
   "metadata": {},
   "outputs": [],
   "source": [
    "model.save('MNIST_MODEL.keras')"
   ]
  },
  {
   "cell_type": "markdown",
   "metadata": {},
   "source": [
    "---"
   ]
  }
 ],
 "metadata": {
  "kernelspec": {
   "display_name": "Python 3",
   "language": "python",
   "name": "python3"
  },
  "language_info": {
   "codemirror_mode": {
    "name": "ipython",
    "version": 3
   },
   "file_extension": ".py",
   "mimetype": "text/x-python",
   "name": "python",
   "nbconvert_exporter": "python",
   "pygments_lexer": "ipython3",
   "version": "3.12.6"
  }
 },
 "nbformat": 4,
 "nbformat_minor": 2
}
